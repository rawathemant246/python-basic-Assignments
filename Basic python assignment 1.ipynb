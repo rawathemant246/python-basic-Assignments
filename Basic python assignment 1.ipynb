{
 "cells": [
  {
   "cell_type": "code",
   "execution_count": 1,
   "id": "14358d56",
   "metadata": {},
   "outputs": [
    {
     "name": "stdout",
     "output_type": "stream",
     "text": [
      "Hello Python\n"
     ]
    }
   ],
   "source": [
    "#1 to Print 'Hello python'\n",
    "\n",
    "print(\"Hello Python\")"
   ]
  },
  {
   "cell_type": "code",
   "execution_count": 8,
   "id": "818049c7",
   "metadata": {},
   "outputs": [
    {
     "name": "stdout",
     "output_type": "stream",
     "text": [
      "Addition of a and b is: 15\n",
      "division of a and b is: 0.5\n"
     ]
    }
   ],
   "source": [
    "#2 Arithmetical opetations addition and division\n",
    "a=5\n",
    "b=10\n",
    "addi = a +b\n",
    "divi = a/b\n",
    "print(\"Addition of a and b is:\", addi)\n",
    "print(\"division of a and b is:\", divi)"
   ]
  },
  {
   "cell_type": "code",
   "execution_count": 25,
   "id": "580f34ab",
   "metadata": {},
   "outputs": [
    {
     "name": "stdout",
     "output_type": "stream",
     "text": [
      "The area of the triangle is: 59.81168364124187\n"
     ]
    }
   ],
   "source": [
    "#3 Area of triangle\n",
    "a= 12\n",
    "b= 15\n",
    "c= 10\n",
    "#calculate the semi-perimeter of triangle\n",
    "s = (a+b+c)/2\n",
    "area = (s*(s-a)*(s-b)*(s-c))**0.5  \n",
    "print('The area of the triangle is:',area)"
   ]
  },
  {
   "cell_type": "code",
   "execution_count": 27,
   "id": "5364f459",
   "metadata": {},
   "outputs": [
    {
     "name": "stdout",
     "output_type": "stream",
     "text": [
      "The area of traingle is 6604.186\n"
     ]
    }
   ],
   "source": [
    "#3 Area of Triangle\n",
    "a= 15\n",
    "b= 18\n",
    "c= 20\n",
    "#calculate the semi-perimeter of traingle\n",
    "s = (a+b+c)/2\n",
    "area = (s*(s-a)*(s-b)*(s-c)**0.5)\n",
    "print(\"The area of traingle is %0.3f\"%area)\n"
   ]
  },
  {
   "cell_type": "code",
   "execution_count": 33,
   "id": "09ba357e",
   "metadata": {},
   "outputs": [
    {
     "name": "stdout",
     "output_type": "stream",
     "text": [
      "swap variable is: 20 15\n"
     ]
    }
   ],
   "source": [
    "#4 to swap two varibale\n",
    "a = 15\n",
    "b = 20\n",
    "temp = a\n",
    "a = b\n",
    "b = temp\n",
    "print(\"swap variable is:\",a, b)\n"
   ]
  },
  {
   "cell_type": "code",
   "execution_count": 10,
   "id": "243b2c73",
   "metadata": {},
   "outputs": [
    {
     "name": "stdout",
     "output_type": "stream",
     "text": [
      "790\n"
     ]
    }
   ],
   "source": [
    "#5 program to generate a random number\n",
    "import random\n",
    "\n",
    "print(random.randint(0,1000))"
   ]
  },
  {
   "cell_type": "code",
   "execution_count": null,
   "id": "d973c817",
   "metadata": {},
   "outputs": [],
   "source": []
  }
 ],
 "metadata": {
  "kernelspec": {
   "display_name": "Python 3 (ipykernel)",
   "language": "python",
   "name": "python3"
  },
  "language_info": {
   "codemirror_mode": {
    "name": "ipython",
    "version": 3
   },
   "file_extension": ".py",
   "mimetype": "text/x-python",
   "name": "python",
   "nbconvert_exporter": "python",
   "pygments_lexer": "ipython3",
   "version": "3.9.7"
  }
 },
 "nbformat": 4,
 "nbformat_minor": 5
}
