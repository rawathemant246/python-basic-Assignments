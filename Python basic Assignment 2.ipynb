{
 "cells": [
  {
   "cell_type": "code",
   "execution_count": null,
   "id": "d7a52776",
   "metadata": {},
   "outputs": [],
   "source": [
    "#1 convert kilometer to miles\n",
    "#Taking input from the user\n",
    "kilometer = float(input(\"Enter the value in kilometer:\"))\n",
    "#conversion factor kilometer to miles\n",
    "conv_factor = 0.621371\n",
    "#calculating in miles\n",
    "miles = kilometer*conv_factor\n",
    "print(\"%0.3f kilometer is equals to %0.3f miles\" %(kilometer,miles))"
   ]
  },
  {
   "cell_type": "code",
   "execution_count": null,
   "id": "7f168730",
   "metadata": {},
   "outputs": [],
   "source": [
    "#2 celsius to fahrenheit\n",
    "#Taking the input from the user\n",
    "celsius = float(input(\"Enter the value in celsius:\"))\n",
    "# now converting celsius to fahrenheit\n",
    "fahrenheit = (celsius*1.8) + 32\n",
    "print(\"%0.3f celsius is equal to %0.3f fahrenheit\"%(celsius,fahrenheit))"
   ]
  },
  {
   "cell_type": "code",
   "execution_count": 1,
   "id": "85bcbbd5",
   "metadata": {},
   "outputs": [
    {
     "name": "stdout",
     "output_type": "stream",
     "text": [
      "Enter the year:2022\n",
      "Enter the month:4\n",
      "     April 2022\n",
      "Mo Tu We Th Fr Sa Su\n",
      "             1  2  3\n",
      " 4  5  6  7  8  9 10\n",
      "11 12 13 14 15 16 17\n",
      "18 19 20 21 22 23 24\n",
      "25 26 27 28 29 30\n",
      "\n"
     ]
    }
   ],
   "source": [
    "#3 To display the calender\n",
    "#importing the calender module from python\n",
    "import calendar\n",
    "\n",
    "yy  = int(input(\"Enter the year:\"))\n",
    "mm  = int(input(\"Enter the month:\"))\n",
    "print(calendar.month(yy,mm))"
   ]
  },
  {
   "cell_type": "code",
   "execution_count": 5,
   "id": "98a3c830",
   "metadata": {},
   "outputs": [
    {
     "name": "stdout",
     "output_type": "stream",
     "text": [
      "Enter the value of a:15\n",
      "Enter the value of b:12\n",
      "Enter the value of c:3\n",
      "The solutions are (-0.4+0.2j) and (-0.4-0.2j)\n"
     ]
    }
   ],
   "source": [
    "#4 TO solve quadratic Equation\n",
    "#importing complex math module\n",
    "import cmath\n",
    "a= int(input(\"Enter the value of a:\"))\n",
    "b= int(input(\"Enter the value of b:\"))\n",
    "c= int(input(\"Enter the value of c:\"))\n",
    "#calculating the discriminant\n",
    "d = (b**2)-(4*a*c)\n",
    "#finding the two solutins\n",
    "sol1 = (-b+cmath.sqrt(d))/(2*a)\n",
    "sol2 = (-b-cmath.sqrt(d))/(2*a)\n",
    "print(\"The solutions are {0} and {1}\".format(sol1,sol2))"
   ]
  },
  {
   "cell_type": "code",
   "execution_count": 6,
   "id": "18cd3927",
   "metadata": {},
   "outputs": [
    {
     "name": "stdout",
     "output_type": "stream",
     "text": [
      "Enter the value of a:12.1\n",
      "Enter the value of b:13.1\n",
      "Swap varibales are 13.10 and 12.10\n"
     ]
    }
   ],
   "source": [
    "#5 To swap two variable without using temp variable\n",
    "a = float(input(\"Enter the value of a:\"))\n",
    "b = float(input(\"Enter the value of b:\"))\n",
    "\n",
    "a,b = b,a\n",
    "\n",
    "#To print swap varibale are:\n",
    "print(\"Swap varibales are %0.2f and %0.2f\" %(a,b))"
   ]
  },
  {
   "cell_type": "code",
   "execution_count": null,
   "id": "109c2830",
   "metadata": {},
   "outputs": [],
   "source": []
  }
 ],
 "metadata": {
  "kernelspec": {
   "display_name": "Python 3 (ipykernel)",
   "language": "python",
   "name": "python3"
  },
  "language_info": {
   "codemirror_mode": {
    "name": "ipython",
    "version": 3
   },
   "file_extension": ".py",
   "mimetype": "text/x-python",
   "name": "python",
   "nbconvert_exporter": "python",
   "pygments_lexer": "ipython3",
   "version": "3.9.7"
  }
 },
 "nbformat": 4,
 "nbformat_minor": 5
}
