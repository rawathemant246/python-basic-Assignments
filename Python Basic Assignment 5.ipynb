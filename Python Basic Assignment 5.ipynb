{
 "cells": [
  {
   "cell_type": "code",
   "execution_count": 7,
   "id": "d1ea9ec1",
   "metadata": {},
   "outputs": [],
   "source": [
    "#1 To find the LCM \n",
    "def gcd(a,b):\n",
    "    if a == 0:\n",
    "        return b\n",
    "    return gcd(b%a,a)\n",
    "def lcm(a,b):\n",
    "    return(a/gcd(a,b))*b\n",
    "        \n"
   ]
  },
  {
   "cell_type": "code",
   "execution_count": 9,
   "id": "22f7c40e",
   "metadata": {},
   "outputs": [
    {
     "name": "stdout",
     "output_type": "stream",
     "text": [
      "LCM of 25 and 20 is 100.0\n"
     ]
    }
   ],
   "source": [
    "a = 25\n",
    "b = 20\n",
    "print('LCM of', a, 'and',b, 'is', lcm(a,b))"
   ]
  },
  {
   "cell_type": "code",
   "execution_count": 1,
   "id": "00777366",
   "metadata": {},
   "outputs": [],
   "source": [
    "#2 TO find the HCF\n",
    "def compute_hcf(x,y):\n",
    "    while(y):\n",
    "        x,y = y, x%y\n",
    "    return x\n"
   ]
  },
  {
   "cell_type": "code",
   "execution_count": 2,
   "id": "232d53f5",
   "metadata": {},
   "outputs": [
    {
     "name": "stdout",
     "output_type": "stream",
     "text": [
      "The HCF is 5\n"
     ]
    }
   ],
   "source": [
    "hcf = compute_hcf(25,60)\n",
    "print(\"The HCF is\", hcf)"
   ]
  },
  {
   "cell_type": "code",
   "execution_count": 5,
   "id": "672b7e09",
   "metadata": {},
   "outputs": [
    {
     "name": "stdout",
     "output_type": "stream",
     "text": [
      "Enter the value45\n",
      "the decimal value of 45 is:\n",
      "0b101101 in binary.\n",
      "0o55 in octal.\n",
      "0x2d in hexadecimal.\n"
     ]
    }
   ],
   "source": [
    "#3 Python program to convert Decimal to Binary, Octal to Hexadecimal\n",
    "deci = int(input(\"Enter the value\"))\n",
    "print(\"the decimal value of\",deci,\"is:\")\n",
    "print(bin(deci),\"in binary.\")\n",
    "print(oct(deci), \"in octal.\")\n",
    "print(hex(deci),\"in hexadecimal.\")"
   ]
  },
  {
   "cell_type": "code",
   "execution_count": 6,
   "id": "f1e946be",
   "metadata": {},
   "outputs": [
    {
     "name": "stdout",
     "output_type": "stream",
     "text": [
      "Please enter a character: ]\n",
      "The ASCII value is  93\n"
     ]
    }
   ],
   "source": [
    "#4 Python program to find ADCII value of character\n",
    "K = input(\"Please enter a character: \")    \n",
    "print(\"The ASCII value is \",ord(K))  "
   ]
  },
  {
   "cell_type": "code",
   "execution_count": 1,
   "id": "73974a16",
   "metadata": {},
   "outputs": [
    {
     "name": "stdout",
     "output_type": "stream",
     "text": [
      "Select the operation you want!!\n",
      "1. Add\n",
      "2. Subtract\n",
      "3. Multiply\n",
      "4. Divide\n",
      "Enter the choice (1/2/3/4):1\n",
      "Enter the first number: 12\n",
      "Enter the second number: 12\n",
      "12.0 + 12.0 = 24.0\n",
      "Let's do next calculation? (yes/no):no\n"
     ]
    }
   ],
   "source": [
    "#5 Python program to make a simple calculator with 4 basic mathematical operations\n",
    "\n",
    "#This function is to add two numbers\n",
    "def add(x,y):\n",
    "    return x + y\n",
    "#THis function is to subract two numbers\n",
    "def subtract(x,y):\n",
    "    return x - y\n",
    "#This function is to multiply two numbers\n",
    "def multiply(x,y):\n",
    "    return x * y\n",
    "#This function is to divide two numbers\n",
    "def divide(x,y):\n",
    "    return x / y\n",
    "print(\"Select the operation you want!!\")\n",
    "print(\"1. Add\")\n",
    "print(\"2. Subtract\")\n",
    "print(\"3. Multiply\")\n",
    "print(\"4. Divide\")\n",
    "while (True):\n",
    "    #take input from the user\n",
    "    choice = input(\"Enter the choice (1/2/3/4):\")\n",
    "    # check if choice is one of the four operatins\n",
    "    if choice in('1', '2', '3', '4'):\n",
    "            num1 = float(input(\"Enter the first number: \"))\n",
    "            num2 = float(input(\"Enter the second number: \"))\n",
    "    if choice == '1':\n",
    "            print(num1, \"+\", num2, \"=\", add(num1,num2))\n",
    "    elif choice == '2':\n",
    "            print(num1, '-', num2, '=', subtract(num1,num2))\n",
    "    elif choice == '3':\n",
    "            print(num1, '*', num2, '=', multiply(num1,num2))\n",
    "    elif choice == '4':\n",
    "            print(num1, '/', num2, '=', divide(num1,num2))\n",
    "        #check if user want another type of calculation\n",
    "        #Break the while loop if answer is no\n",
    "        \n",
    "    next_calculation = input(\"Let's do next calculation? (yes/no):\")\n",
    "    if next_calculation == \"no\":\n",
    "            break\n",
    "    else:\n",
    "            print(\"invalid Input\")"
   ]
  },
  {
   "cell_type": "code",
   "execution_count": null,
   "id": "14247142",
   "metadata": {},
   "outputs": [],
   "source": []
  },
  {
   "cell_type": "code",
   "execution_count": null,
   "id": "b1c652d3",
   "metadata": {},
   "outputs": [],
   "source": []
  }
 ],
 "metadata": {
  "kernelspec": {
   "display_name": "Python 3 (ipykernel)",
   "language": "python",
   "name": "python3"
  },
  "language_info": {
   "codemirror_mode": {
    "name": "ipython",
    "version": 3
   },
   "file_extension": ".py",
   "mimetype": "text/x-python",
   "name": "python",
   "nbconvert_exporter": "python",
   "pygments_lexer": "ipython3",
   "version": "3.9.7"
  }
 },
 "nbformat": 4,
 "nbformat_minor": 5
}
