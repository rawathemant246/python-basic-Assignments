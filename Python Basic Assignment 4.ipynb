{
 "cells": [
  {
   "cell_type": "code",
   "execution_count": 11,
   "id": "a92c54f4",
   "metadata": {},
   "outputs": [
    {
     "name": "stdout",
     "output_type": "stream",
     "text": [
      "Enter the number: 5\n",
      "The factorial of 5 is  1\n",
      "The factorial of 5 is  2\n",
      "The factorial of 5 is  6\n",
      "The factorial of 5 is  24\n",
      "The factorial of 5 is  120\n"
     ]
    }
   ],
   "source": [
    "#1 TO find  the factorial of a number\n",
    "number = int(input(\"Enter the number: \"))\n",
    "factorial = 1\n",
    "if number<0:\n",
    "    print(\"Negative number have no factorials\")\n",
    "elif number==0:\n",
    "    print(\"The factorial of 0 is 1\")\n",
    "else:\n",
    "    for i in range(1,number+1):\n",
    "        factorial = factorial *i\n",
    "        print(\"The factorial of\",number,\"is \",factorial)\n",
    "        "
   ]
  },
  {
   "cell_type": "code",
   "execution_count": 12,
   "id": "6417ea9b",
   "metadata": {},
   "outputs": [
    {
     "name": "stdout",
     "output_type": "stream",
     "text": [
      "Enter the number: 3\n",
      "3 x 1 = 3\n",
      "3 x 2 = 6\n",
      "3 x 3 = 9\n",
      "3 x 4 = 12\n",
      "3 x 5 = 15\n",
      "3 x 6 = 18\n",
      "3 x 7 = 21\n",
      "3 x 8 = 24\n",
      "3 x 9 = 27\n",
      "3 x 10 = 30\n"
     ]
    }
   ],
   "source": [
    "#2 To Display the multiplication table\n",
    "num = int(input(\"Enter the number: \"))\n",
    "#now to iterate it 1 to 10\n",
    "for i in range(1, 11):\n",
    "    print(num,'x',i,'=',num*i)"
   ]
  },
  {
   "cell_type": "code",
   "execution_count": 19,
   "id": "3e4a571d",
   "metadata": {},
   "outputs": [
    {
     "name": "stdout",
     "output_type": "stream",
     "text": [
      "Enter the terms?  2\n",
      "Fibonacci sequence :\n",
      "0\n",
      "1\n"
     ]
    }
   ],
   "source": [
    "#3 To print the Fibonacci sequence\n",
    "nterms = int(input(\"Enter the terms?  \"))\n",
    "n1, n2 = 0,1\n",
    "count =0\n",
    "if nterms <=0:\n",
    "    print('Please enter the positive number')\n",
    "elif nterms == 1:\n",
    "    print(\"Fibonacci sequence upto\", nterms,\":\")\n",
    "    print(n1)\n",
    "else:\n",
    "    print(\"Fibonacci sequence :\")\n",
    "    while count<nterms:\n",
    "        print(n1)\n",
    "        nth = n1 + n2\n",
    "        n1 =n2\n",
    "        n2 = nth\n",
    "        count += 1"
   ]
  },
  {
   "cell_type": "code",
   "execution_count": 2,
   "id": "41a55c0e",
   "metadata": {},
   "outputs": [
    {
     "name": "stdout",
     "output_type": "stream",
     "text": [
      "Enter the number:  121\n",
      "121 is not an Armstrong number\n"
     ]
    }
   ],
   "source": [
    "#4 TO  check the Armstrong number\n",
    "num = int(input(\"Enter the number:  \"))\n",
    "sum = 0\n",
    "temp = num\n",
    "while temp>0:\n",
    "    digit = temp %10\n",
    "    sum += digit**3\n",
    "    temp //=10\n",
    "if num ==sum:\n",
    "    print(num,\"is an Armstrong number\")\n",
    "else:\n",
    "    print(num,\"is not an Armstrong number\")"
   ]
  },
  {
   "cell_type": "code",
   "execution_count": 1,
   "id": "43993c28",
   "metadata": {},
   "outputs": [
    {
     "name": "stdout",
     "output_type": "stream",
     "text": [
      "153\n",
      "370\n",
      "371\n",
      "407\n",
      "1634\n",
      "8208\n",
      "9474\n"
     ]
    }
   ],
   "source": [
    "#5 To find Armstrong number in an interval\n",
    "lower = 100\n",
    "upper = 10000\n",
    "for num in range(lower, upper +1):\n",
    "    order = len(str(num))\n",
    "    sum =0\n",
    "    temp = num\n",
    "    while temp>0:\n",
    "        digit = temp%10\n",
    "        sum = sum + digit**order\n",
    "        temp//=10\n",
    "    if num == sum:\n",
    "        print(num)"
   ]
  },
  {
   "cell_type": "code",
   "execution_count": 2,
   "id": "c2399987",
   "metadata": {},
   "outputs": [
    {
     "name": "stdout",
     "output_type": "stream",
     "text": [
      "Enter the number12\n",
      "The sum is:  78\n"
     ]
    }
   ],
   "source": [
    "#6 TO find the sum of natural numbers\n",
    "num = int(input(\"Enter the number\"))\n",
    "if num <0:\n",
    "    print('Enter the positive number')\n",
    "else:\n",
    "    sum = 0\n",
    "    while (num>0):\n",
    "        sum +=num\n",
    "        num -=1\n",
    "    print(\"The sum is: \",sum)"
   ]
  },
  {
   "cell_type": "code",
   "execution_count": null,
   "id": "c67b911b",
   "metadata": {},
   "outputs": [],
   "source": []
  }
 ],
 "metadata": {
  "kernelspec": {
   "display_name": "Python 3 (ipykernel)",
   "language": "python",
   "name": "python3"
  },
  "language_info": {
   "codemirror_mode": {
    "name": "ipython",
    "version": 3
   },
   "file_extension": ".py",
   "mimetype": "text/x-python",
   "name": "python",
   "nbconvert_exporter": "python",
   "pygments_lexer": "ipython3",
   "version": "3.9.7"
  }
 },
 "nbformat": 4,
 "nbformat_minor": 5
}
